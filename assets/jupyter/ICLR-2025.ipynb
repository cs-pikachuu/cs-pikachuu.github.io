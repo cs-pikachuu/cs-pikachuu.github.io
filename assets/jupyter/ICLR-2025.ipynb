{
 "cells": [
  {
   "cell_type": "markdown",
   "metadata": {},
   "source": [
    "A Collection of all papers related to hypothesis generation & LLM reasoning"
   ]
  },
  {
   "cell_type": "markdown",
   "metadata": {},
   "source": [
    "**LEARNING TO DISCOVER REGULATORY ELEMENTS FOR GENE EXPRESSION PREDICTION** ICLR 2025\n",
    "**Code:**  https://github.com/divelab/AIRS/\n",
    "Gene Expression in different cells.\n",
    "\n",
    "**Current:** Gene Expression mainly focus on DNA Seq for prediction. This work introduces epigenomic signals, to find the regulatory elements.\n",
    "\n",
    "**Method:** Seq2Exp, using deeplearning model to learn a mask to find the regulatory elements. Including a Generator and a Predictor. "
   ]
  },
  {
   "cell_type": "markdown",
   "metadata": {},
   "source": [
    "Hypothesis Generation for Materials Discovery and Design Using Goal-Driven and Constraint-Guided LLM Agents\n",
    "\n",
    "**Code:** https://github.com/shri071/Hypothesis-Generation-for-Materials-Discovery-and-Design-Using-Goal-Driven-and-Constraint-Guided-LLM\n",
    "\n",
    "**Background:** Material Discovery\n",
    "\n",
    "**Method:** Input prompt + Knowgraph -> Generate 20 hypothesis -> reviewed by three critics -> feedback summarized by Summarizer.\n",
    "If unanimous agreement is not reached, the hypotheses + critic feedback fed back to Generator -> Refine.\n",
    "\n",
    "Note their evaluation metric\n",
    "\n",
    "**New benchmark**"
   ]
  },
  {
   "cell_type": "markdown",
   "metadata": {},
   "source": [
    "**Large language models for causal hypothesis generation in science**\n",
    "\n",
    "A summary paper..."
   ]
  },
  {
   "cell_type": "markdown",
   "metadata": {},
   "source": [
    "**Sparse Autoencoders for Hypothesis Generation**\n",
    "\n",
    "**Method**:\n",
    "\n",
    "1. Feature Generation by training BERT model. \n",
    "   \n",
    "2. Feature selection: Find neurons with activations that predict the target variable\n",
    "\n",
    "3. Featrue Interpretation: Find natural language concept that correlates with neuron activation."
   ]
  }
 ],
 "metadata": {
  "language_info": {
   "name": "python"
  }
 },
 "nbformat": 4,
 "nbformat_minor": 2
}
